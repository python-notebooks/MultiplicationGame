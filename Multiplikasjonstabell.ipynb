{
 "cells": [
  {
   "cell_type": "code",
   "execution_count": null,
   "metadata": {},
   "outputs": [],
   "source": [
    "\n",
    "\n",
    "import random\n",
    "\n",
    "def saveinfile(varStrFileInput):\n",
    "    with open(\"ThadesResultater.txt\", \"a\") as fileObj:\n",
    "        fileObj.write(varStrFileInput)\n",
    "        fileObj.write(\"\\n\")\n",
    "\n",
    "for i in range(10):\n",
    "\n",
    "    varInt1 = random.choice([1,2,3,4,5,6,7,8,9,10])\n",
    "    varInt2 = random.choice([4,6,7])\n",
    "\n",
    "    varStrAns = input(\"Hva er \" + str(varInt1) + \" ganger \" + str(varInt2) + \" er: \")\n",
    "    varIntRes = varInt1*varInt2\n",
    "\n",
    "    print(\"Du svarte \" + varStrAns + \"\\n\")\n",
    "    print(\"Svaret er \" + str(varIntRes) + \"\\n\")\n",
    "\n",
    "    varIntAns = int(varStrAns)\n",
    "\n",
    "    if varIntAns == varIntRes:\n",
    "        print(\"Du har 24rett.\")\n",
    "        varStrRett = str(varInt1) + \" * \" + str(varInt2) + \" = \" + varStrAns + \" = Rett\"\n",
    "        saveinfile(varStrRett)\n",
    "    else:\n",
    "        print(\"Du tok desverre feil.\")\n",
    "        varStrFeil = str(varInt1) + \" * \" + str(varInt2) + \" = \" + varStrAns + \" = Feil\"\n",
    "        saveinfile(varStrFeil)\n"
   ]
  }
 ],
 "metadata": {
  "kernelspec": {
   "display_name": "Python 3",
   "language": "python",
   "name": "python3"
  },
  "language_info": {
   "codemirror_mode": {
    "name": "ipython",
    "version": 3
   },
   "file_extension": ".py",
   "mimetype": "text/x-python",
   "name": "python",
   "nbconvert_exporter": "python",
   "pygments_lexer": "ipython3",
   "version": "3.7.3"
  }
 },
 "nbformat": 4,
 "nbformat_minor": 2
}
